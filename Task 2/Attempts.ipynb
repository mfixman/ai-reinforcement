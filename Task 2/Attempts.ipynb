{
 "cells": [
  {
   "cell_type": "markdown",
   "id": "6edb279e-cf8c-4f8a-99f4-c40eefc1de7d",
   "metadata": {},
   "source": [
    "# Prelude"
   ]
  },
  {
   "cell_type": "code",
   "execution_count": 7,
   "id": "4a6c09cc-b457-40ef-8a10-97e6ef4791d9",
   "metadata": {},
   "outputs": [],
   "source": [
    "import gymnasium as gym\n",
    "import torch\n",
    "import numpy\n",
    "import matplotlib\n",
    "import random\n",
    "import math\n",
    "\n",
    "from matplotlib import pyplot\n",
    "from torch import nn, optim\n",
    "from torch.nn import functional as F\n",
    "from collections import deque, namedtuple\n",
    "from itertools import count\n",
    "from numpy import ndarray\n",
    "from gymnasium import spaces\n",
    "\n",
    "from IPython import display"
   ]
  },
  {
   "cell_type": "code",
   "execution_count": 2,
   "id": "258a4dfd-6d53-47a5-8b27-b84ee4d7705e",
   "metadata": {},
   "outputs": [],
   "source": [
    "import seaborn\n",
    "seaborn.set()"
   ]
  },
  {
   "cell_type": "code",
   "execution_count": 3,
   "id": "b86dffac-5026-4024-9c23-3314bd6f1abd",
   "metadata": {},
   "outputs": [],
   "source": [
    "device = 'cuda'"
   ]
  },
  {
   "cell_type": "markdown",
   "id": "036bdef4-40e1-4304-a60c-30595d13ed89",
   "metadata": {
    "jp-MarkdownHeadingCollapsed": true
   },
   "source": [
    "# Cartpole code"
   ]
  },
  {
   "cell_type": "code",
   "execution_count": 57,
   "id": "af39ddad-6f3c-481f-8180-96fb69e0a975",
   "metadata": {},
   "outputs": [],
   "source": [
    "env = gym.make('CartPole-v1')"
   ]
  },
  {
   "cell_type": "code",
   "execution_count": 58,
   "id": "3191725d-9407-417b-a926-3d62359cd028",
   "metadata": {},
   "outputs": [
    {
     "data": {
      "text/plain": [
       "<contextlib.ExitStack at 0x7fc2784be850>"
      ]
     },
     "execution_count": 58,
     "metadata": {},
     "output_type": "execute_result"
    }
   ],
   "source": [
    "pyplot.ion()"
   ]
  },
  {
   "cell_type": "code",
   "execution_count": 59,
   "id": "7bd678a4-76d2-424e-bc23-ce592f96a436",
   "metadata": {},
   "outputs": [],
   "source": [
    "Transition = namedtuple('Transition', ('state', 'action', 'next_state', 'reward'))\n",
    "\n",
    "class ReplayMemory(object):\n",
    "    def __init__(self, capacity):\n",
    "        self.memory = deque([], maxlen=capacity)\n",
    "\n",
    "    def push(self, *args):\n",
    "        \"\"\"Save a transition\"\"\"\n",
    "        self.memory.append(Transition(*args))\n",
    "\n",
    "    def sample(self, batch_size):\n",
    "        return random.sample(self.memory, batch_size)\n",
    "\n",
    "    def __len__(self):\n",
    "        return len(self.memory)"
   ]
  },
  {
   "cell_type": "code",
   "execution_count": 60,
   "id": "1cfc36df-8602-4a29-87aa-99854bc036b6",
   "metadata": {},
   "outputs": [],
   "source": [
    "class DQN(nn.Module):\n",
    "\n",
    "    def __init__(self, n_observations, n_actions):\n",
    "        super(DQN, self).__init__()\n",
    "        self.layer1 = nn.Linear(n_observations, 128)\n",
    "        self.layer2 = nn.Linear(128, 128)\n",
    "        self.layer3 = nn.Linear(128, n_actions)\n",
    "\n",
    "    # Called with either one element to determine next action, or a batch\n",
    "    # during optimization. Returns tensor([[left0exp,right0exp]...]).\n",
    "    def forward(self, x):\n",
    "        x = F.relu(self.layer1(x))\n",
    "        x = F.relu(self.layer2(x))\n",
    "        return self.layer3(x)"
   ]
  },
  {
   "cell_type": "code",
   "execution_count": 61,
   "id": "9ef55451-9d22-4a72-98f8-e78b9e9bee87",
   "metadata": {},
   "outputs": [],
   "source": [
    "# BATCH_SIZE is the number of transitions sampled from the replay buffer\n",
    "# GAMMA is the discount factor as mentioned in the previous section\n",
    "# EPS_START is the starting value of epsilon\n",
    "# EPS_END is the final value of epsilon\n",
    "# EPS_DECAY controls the rate of exponential decay of epsilon, higher means a slower decay\n",
    "# TAU is the update rate of the target network\n",
    "# LR is the learning rate of the ``AdamW`` optimizer\n",
    "BATCH_SIZE = 128\n",
    "GAMMA = 0.99\n",
    "EPS_START = 0.9\n",
    "EPS_END = 0.05\n",
    "EPS_DECAY = 1000\n",
    "TAU = 0.005\n",
    "LR = 1e-4\n",
    "\n",
    "# Get number of actions from gym action space\n",
    "n_actions = env.action_space.n\n",
    "# Get the number of state observations\n",
    "state, info = env.reset()\n",
    "n_observations = len(state)\n",
    "\n",
    "policy_net = DQN(n_observations, n_actions).to(device)\n",
    "target_net = DQN(n_observations, n_actions).to(device)\n",
    "target_net.load_state_dict(policy_net.state_dict())\n",
    "\n",
    "optimizer = optim.AdamW(policy_net.parameters(), lr=LR, amsgrad=True)\n",
    "memory = ReplayMemory(10000)\n",
    "\n",
    "\n",
    "steps_done = 0\n",
    "\n",
    "\n",
    "def select_action(state):\n",
    "    global steps_done\n",
    "    sample = random.random()\n",
    "    eps_threshold = EPS_END + (EPS_START - EPS_END) * \\\n",
    "        math.exp(-1. * steps_done / EPS_DECAY)\n",
    "    steps_done += 1\n",
    "    if sample > eps_threshold:\n",
    "        with torch.no_grad():\n",
    "            # t.max(1) will return the largest column value of each row.\n",
    "            # second column on max result is index of where max element was\n",
    "            # found, so we pick action with the larger expected reward.\n",
    "            return policy_net(state).max(1).indices.view(1, 1)\n",
    "    else:\n",
    "        return torch.tensor([[env.action_space.sample()]], device=device, dtype=torch.long)\n",
    "\n",
    "\n",
    "episode_durations = []\n",
    "\n",
    "\n",
    "def plot_durations(show_result=False):\n",
    "    pyplot.figure(1)\n",
    "    durations_t = torch.tensor(episode_durations, dtype=torch.float)\n",
    "    if show_result:\n",
    "        pyplot.title('Result')\n",
    "    else:\n",
    "        pyplot.clf()\n",
    "        pyplot.title('Training...')\n",
    "    pyplot.xlabel('Episode')\n",
    "    pyplot.ylabel('Duration')\n",
    "    pyplot.plot(durations_t.numpy())\n",
    "    # Take 100 episode averages and plot them too\n",
    "    if len(durations_t) >= 100:\n",
    "        means = durations_t.unfold(0, 100, 1).mean(1).view(-1)\n",
    "        means = torch.cat((torch.zeros(99), means))\n",
    "        pyplot.plot(means.numpy())\n",
    "\n",
    "    pyplot.pause(0.001)  # pause a bit so that plots are updated\n",
    "    if not show_result:\n",
    "        display.display(pyplot.gcf())\n",
    "        display.clear_output(wait=True)\n",
    "    else:\n",
    "        display.display(pyplot.gcf())"
   ]
  },
  {
   "cell_type": "code",
   "execution_count": 63,
   "id": "e961a35a-40c3-4749-9708-a64e6a18d625",
   "metadata": {},
   "outputs": [],
   "source": [
    "def optimize_model():\n",
    "    if len(memory) < BATCH_SIZE:\n",
    "        return\n",
    "    transitions = memory.sample(BATCH_SIZE)\n",
    "    # Transpose the batch (see https://stackoverflow.com/a/19343/3343043 for\n",
    "    # detailed explanation). This converts batch-array of Transitions\n",
    "    # to Transition of batch-arrays.\n",
    "    batch = Transition(*zip(*transitions))\n",
    "\n",
    "    # Compute a mask of non-final states and concatenate the batch elements\n",
    "    # (a final state would've been the one after which simulation ended)\n",
    "    non_final_mask = torch.tensor(tuple(map(lambda s: s is not None,\n",
    "                                          batch.next_state)), device=device, dtype=torch.bool)\n",
    "    non_final_next_states = torch.cat([s for s in batch.next_state\n",
    "                                                if s is not None])\n",
    "    state_batch = torch.cat(batch.state)\n",
    "    action_batch = torch.cat(batch.action)\n",
    "    reward_batch = torch.cat(batch.reward)\n",
    "\n",
    "    # Compute Q(s_t, a) - the model computes Q(s_t), then we select the\n",
    "    # columns of actions taken. These are the actions which would've been taken\n",
    "    # for each batch state according to policy_net\n",
    "    state_action_values = policy_net(state_batch).gather(1, action_batch)\n",
    "\n",
    "    # Compute V(s_{t+1}) for all next states.\n",
    "    # Expected values of actions for non_final_next_states are computed based\n",
    "    # on the \"older\" target_net; selecting their best reward with max(1).values\n",
    "    # This is merged based on the mask, such that we'll have either the expected\n",
    "    # state value or 0 in case the state was final.\n",
    "    next_state_values = torch.zeros(BATCH_SIZE, device=device)\n",
    "    with torch.no_grad():\n",
    "        next_state_values[non_final_mask] = target_net(non_final_next_states).max(1).values\n",
    "    # Compute the expected Q values\n",
    "    expected_state_action_values = (next_state_values * GAMMA) + reward_batch\n",
    "\n",
    "    # Compute Huber loss\n",
    "    criterion = nn.SmoothL1Loss()\n",
    "    loss = criterion(state_action_values, expected_state_action_values.unsqueeze(1))\n",
    "\n",
    "    # Optimize the model\n",
    "    optimizer.zero_grad()\n",
    "    loss.backward()\n",
    "    # In-place gradient clipping\n",
    "    torch.nn.utils.clip_grad_value_(policy_net.parameters(), 100)\n",
    "    optimizer.step()"
   ]
  },
  {
   "cell_type": "code",
   "execution_count": 64,
   "id": "20f6ab17-7354-4a57-8283-65c4416144f9",
   "metadata": {},
   "outputs": [
    {
     "name": "stdout",
     "output_type": "stream",
     "text": [
      "Complete\n"
     ]
    },
    {
     "data": {
      "image/png": "[encoded data removed]",
      "text/plain": [
       "<Figure size 640x480 with 1 Axes>"
      ]
     },
     "metadata": {},
     "output_type": "display_data"
    },
    {
     "data": {
      "text/plain": [
       "<Figure size 640x480 with 0 Axes>"
      ]
     },
     "metadata": {},
     "output_type": "display_data"
    },
    {
     "data": {
      "text/plain": [
       "<Figure size 640x480 with 0 Axes>"
      ]
     },
     "metadata": {},
     "output_type": "display_data"
    }
   ],
   "source": [
    "for i_episode in range(600):\n",
    "    # Initialize the environment and get its state\n",
    "    state, info = env.reset()\n",
    "    state = torch.tensor(state, dtype=torch.float32, device=device).unsqueeze(0)\n",
    "    for t in count():\n",
    "        action = select_action(state)\n",
    "        observation, reward, terminated, truncated, _ = env.step(action.item())\n",
    "        reward = torch.tensor([reward], device=device)\n",
    "        done = terminated or truncated\n",
    "\n",
    "        if terminated:\n",
    "            next_state = None\n",
    "        else:\n",
    "            next_state = torch.tensor(observation, dtype=torch.float32, device=device).unsqueeze(0)\n",
    "\n",
    "        # Store the transition in memory\n",
    "        memory.push(state, action, next_state, reward)\n",
    "\n",
    "        # Move to the next state\n",
    "        state = next_state\n",
    "\n",
    "        # Perform one step of the optimization (on the policy network)\n",
    "        optimize_model()\n",
    "\n",
    "        # Soft update of the target network's weights\n",
    "        # θ′ ← τ θ + (1 −τ )θ′\n",
    "        target_net_state_dict = target_net.state_dict()\n",
    "        policy_net_state_dict = policy_net.state_dict()\n",
    "        for key in policy_net_state_dict:\n",
    "            target_net_state_dict[key] = policy_net_state_dict[key]*TAU + target_net_state_dict[key]*(1-TAU)\n",
    "        target_net.load_state_dict(target_net_state_dict)\n",
    "\n",
    "        if done:\n",
    "            episode_durations.append(t + 1)\n",
    "            plot_durations()\n",
    "            break\n",
    "\n",
    "print('Complete')\n",
    "plot_durations(show_result=True)\n",
    "pyplot.ioff()\n",
    "pyplot.show()"
   ]
  },
  {
   "cell_type": "markdown",
   "id": "15ab04d0-9cab-4629-a177-74da8afd06d1",
   "metadata": {},
   "source": [
    "# Skating Rink"
   ]
  },
  {
   "cell_type": "code",
   "execution_count": 9,
   "id": "7e15fcfb-01b2-4126-b62b-e524b8448bf2",
   "metadata": {},
   "outputs": [],
   "source": [
    "left = -1\n",
    "none = 0\n",
    "right = 1\n",
    "\n",
    "speed = .1\n",
    "ang_speed = 1/10 * (2 * numpy.pi)\n",
    "\n",
    "end = numpy.array([10, 10])\n",
    "\n",
    "class SkatingRinkEnv(gym.Env):\n",
    "    state : ndarray\n",
    "\n",
    "    def __init__(self):\n",
    "        super(SkatingRinkEnv, self).__init__()\n",
    "        self.action_space = spaces.Discrete(3)  # Left and right actions\n",
    "        self.observation_space = spaces.Box(low=numpy.array([0, 0, -numpy.pi]), high=numpy.array([100, 100, numpy.pi]), dtype=numpy.float32)  # Example bounds\n",
    "\n",
    "        # Initialize state\n",
    "        self.state = numpy.zeros(3)\n",
    "\n",
    "    def step(self, action : int) -> tuple[ndarray, float, bool, dict]:\n",
    "        self.state = numpy.array([\n",
    "            self.state[0] + action * speed * numpy.sin(self.state[2]),\n",
    "            self.state[1] + action * speed * numpy.cos(self.state[2]),\n",
    "            self.state[2] + ang_speed * action,\n",
    "        ])\n",
    "\n",
    "        coords = self.state[[0, 1]]\n",
    "        done = numpy.sqrt(numpy.sum((coords - end) ** 2)) < 1\n",
    "        reward = 1 if done else -0.01\n",
    "        info = {}\n",
    "\n",
    "        return self.state, reward, done, info\n",
    "\n",
    "    def reset(self) -> ndarray:\n",
    "        self.state = numpy.zeros(3)"
   ]
  },
  {
   "cell_type": "code",
   "execution_count": 10,
   "id": "bc679967-483d-41e3-b5e6-4355dcc297ac",
   "metadata": {},
   "outputs": [],
   "source": [
    "class DQN(nn.Module):\n",
    "    def __init__(self, input_dim, output_dim):\n",
    "        super(DQN, self).__init__()\n",
    "        self.fc1 = nn.Linear(input_dim, 64)  # First fully connected layer\n",
    "        self.fc2 = nn.Linear(64, 64)         # Second fully connected layer\n",
    "        self.fc3 = nn.Linear(64, output_dim) # Output layer\n",
    "\n",
    "    def forward(self, x):\n",
    "        x = F.relu(self.fc1(x))  # Activation function for first layer\n",
    "        x = F.relu(self.fc2(x))  # Activation function for second layer\n",
    "        x = self.fc3(x)          # No activation function for output layer\n",
    "        return x"
   ]
  },
  {
   "cell_type": "code",
   "execution_count": 12,
   "id": "d0f0e715-2ff9-41c9-a40c-97e8b0ccae8a",
   "metadata": {},
   "outputs": [],
   "source": [
    "env = SkatingRinkEnv()\n",
    "model = DQN(env.observation_space.shape[0], output_dim = env.action_space.n)\n",
    "\n",
    "optimizer = optim.Adam(model.parameters(), lr = .001)"
   ]
  },
  {
   "cell_type": "code",
   "execution_count": 13,
   "id": "49eb85dc-45ba-4eb7-8ad7-79e7adfa37dc",
   "metadata": {},
   "outputs": [],
   "source": [
    "from collections import deque\n",
    "import random\n",
    "\n",
    "class ReplayBuffer:\n",
    "    def __init__(self, capacity):\n",
    "        self.buffer = deque(maxlen=capacity)\n",
    "\n",
    "    def push(self, state, action, reward, next_state, done):\n",
    "        self.buffer.append((state, action, reward, next_state, done))\n",
    "\n",
    "    def sample(self, batch_size):\n",
    "        return random.sample(self.buffer, batch_size)\n",
    "\n",
    "    def __len__(self):\n",
    "        return len(self.buffer)"
   ]
  },
  {
   "cell_type": "code",
   "execution_count": 18,
   "id": "a41c8e0c-a40e-42aa-875f-20ee4d952177",
   "metadata": {},
   "outputs": [],
   "source": [
    "episodes = 1  # Total episodes\n",
    "gamma = 0.99  # Discount factor for future rewards\n",
    "epsilon_start = 1.0  # Starting value of epsilon\n",
    "epsilon_end = 0.01  # Minimum value of epsilon\n",
    "epsilon_decay = 500  # Decay rate of epsilon\n",
    "batch_size = 64\n",
    "replay_buffer = ReplayBuffer(10000)\n",
    "target_update = 10  # Update the target network every 10 episodes\n",
    "\n",
    "# Decay function for epsilon\n",
    "def epsilon_by_episode(episode):\n",
    "    return epsilon_end + (epsilon_start - epsilon_end) * numpy.exp(-1. * episode / epsilon_decay)"
   ]
  },
  {
   "cell_type": "code",
   "execution_count": 27,
   "id": "bf481904-4335-4ce5-a84e-10812a8e4ad7",
   "metadata": {},
   "outputs": [
    {
     "name": "stdout",
     "output_type": "stream",
     "text": [
      "<class 'list'>: [array([ 0.24898983,  0.1809017 , 22.61946711]), array([0.24898983, 0.1809017 , 9.42477796]), array([ 0.24898983,  0.0809017 , 16.96460033]), array([0.1902113 , 0.2618034 , 8.79645943]), array([-0.03632713,  0.1118034 , 18.84955592]), array([ 0.24898983,  0.1809017 , 22.61946711]), array([ 0.1902113 , -0.0618034 ,  5.02654825]), array([-1.40008449e-01, -7.29490169e-03,  3.76991118e+01]), None, array([ 0.24898983,  0.1809017 , 22.61946711]), array([ 0.24898983,  0.1809017 , 22.61946711]), array([-4.89858720e-17,  2.00000000e-01,  7.53982237e+00]), array([ 0.1902113 ,  0.3236068 , 15.07964474]), array([ 0.10898138,  0.2736068 , 33.92920066]), array([ 0.15388418, -0.05      , 11.30973355]), array([ 0.24898983, -0.0190983 , 10.68141502]), array([6.93889390e-18, 6.18033989e-02, 1.25663706e+01]), array([0.30776835, 0.1       , 3.76991118]), array([ 0.05877853,  0.3427051 , 20.73451151]), array([0.        , 0.1       , 0.62831853]), array([ 0.24898983,  0.1809017 , 22.61946711]), array([ 0.1677599 ,  0.1927051 , 34.55751919]), array([-9.10328500e-17,  2.61803399e-01,  1.38230077e+01]), array([ 0.24898983,  0.0809017 , 16.96460033]), None, array([0.        , 0.1       , 0.62831853]), array([-0.14000845,  0.1927051 , 32.04424507]), array([ 0.00000000e+00, -5.55111512e-17,  6.28318531e+00]), array([-0.14000845,  0.1927051 , 32.04424507]), array([-2.24513988e-02,  3.09016994e-02,  3.07876080e+01]), array([ 0.24898983, -0.0190983 , 10.68141502]), array([-0.05877853,  0.0809017 , 25.13274123]), array([ 0.1902113 ,  0.1618034 , 28.90265241]), None, array([-0.05877853,  0.0809017 , 25.13274123]), array([ 0.24898983,  0.2809017 , 21.99114858]), array([1.31432778e-01, 1.90983006e-02, 2.38761042e+01]), array([0.1902113 , 0.2618034 , 8.79645943]), array([-1.40008449e-01, -7.29490169e-03,  3.76991118e+01]), array([ 0.30776835,  0.1618034 , 16.3362818 ]), array([ 0.15388418, -0.05      , 11.30973355]), array([-1.40008449e-01, -7.29490169e-03,  3.76991118e+01]), array([ 0.24898983,  0.1809017 , 22.61946711]), array([6.93889390e-18, 6.18033989e-02, 1.25663706e+01]), None, array([0.11755705, 0.2618034 , 1.88495559]), array([-0.03632713,  0.3118034 , 20.10619298]), array([-9.10328500e-17,  2.61803399e-01,  1.38230077e+01]), array([0., 0., 0.]), None, array([ 0.13143278,  0.3427051 , 27.64601535]), array([ 0.05020285, -0.0690983 , 36.44247478]), array([0.11755705, 0.2618034 , 1.88495559]), array([ 7.26542528e-02, -1.38777878e-16,  3.01592895e+01]), array([-0.05877853,  0.2809017 , 26.38937829]), array([0.1902113 , 0.2618034 , 8.79645943]), array([-0.08122992,  0.2736068 , 32.6725636 ]), array([ 0.15388418,  0.05      , 17.59291886]), array([1.38757276e-02, 3.04508497e-01, 3.33008821e+01]), array([ 0.1677599 ,  0.0927051 , 35.18583772]), array([0.30776835, 0.2       , 3.14159265]), array([-0.03632713,  0.3118034 , 20.10619298]), array([ 0.05877853, -0.0190983 , 11.93805208]), array([ 0.15388418, -0.05      , 11.30973355])]\n"
     ]
    },
    {
     "ename": "TypeError",
     "evalue": "not a sequence",
     "output_type": "error",
     "traceback": [
      "\u001b[0;31m---------------------------------------------------------------------------\u001b[0m",
      "\u001b[0;31mTypeError\u001b[0m                                 Traceback (most recent call last)",
      "Cell \u001b[0;32mIn[27], line 33\u001b[0m\n\u001b[1;32m     30\u001b[0m batch_states, batch_actions, batch_rewards, batch_next_states, batch_dones \u001b[38;5;241m=\u001b[39m [\u001b[38;5;28mlist\u001b[39m(x) \u001b[38;5;28;01mfor\u001b[39;00m x \u001b[38;5;129;01min\u001b[39;00m \u001b[38;5;28mzip\u001b[39m(\u001b[38;5;241m*\u001b[39mbatch)]\n\u001b[1;32m     32\u001b[0m \u001b[38;5;28mprint\u001b[39m(\u001b[38;5;124mf\u001b[39m\u001b[38;5;124m'\u001b[39m\u001b[38;5;132;01m{\u001b[39;00m\u001b[38;5;28mtype\u001b[39m(batch_states)\u001b[38;5;132;01m}\u001b[39;00m\u001b[38;5;124m: \u001b[39m\u001b[38;5;132;01m{\u001b[39;00mbatch_states\u001b[38;5;132;01m}\u001b[39;00m\u001b[38;5;124m'\u001b[39m)\n\u001b[0;32m---> 33\u001b[0m batch_states \u001b[38;5;241m=\u001b[39m \u001b[43mtorch\u001b[49m\u001b[38;5;241;43m.\u001b[39;49m\u001b[43mFloatTensor\u001b[49m\u001b[43m(\u001b[49m\u001b[43mbatch_states\u001b[49m\u001b[43m)\u001b[49m\n\u001b[1;32m     34\u001b[0m batch_actions \u001b[38;5;241m=\u001b[39m torch\u001b[38;5;241m.\u001b[39mLongTensor(batch_actions)\n\u001b[1;32m     35\u001b[0m batch_rewards \u001b[38;5;241m=\u001b[39m torch\u001b[38;5;241m.\u001b[39mFloatTensor(batch_rewards)\n",
      "\u001b[0;31mTypeError\u001b[0m: not a sequence"
     ]
    }
   ],
   "source": [
    "# Training loop\n",
    "loss_fn = torch.nn.MSELoss()\n",
    "for episode in range(episodes):\n",
    "    state = env.reset()\n",
    "    epsilon = epsilon_by_episode(episode)\n",
    "    episode_rewards = 0\n",
    "\n",
    "    while True:\n",
    "        # Epsilon-greedy action selection\n",
    "        if random.random() < epsilon:\n",
    "            action = env.action_space.sample()\n",
    "        else:\n",
    "            with torch.no_grad():\n",
    "                state_tensor = torch.FloatTensor(state).unsqueeze(0)\n",
    "                action = model(state_tensor).argmax().item()\n",
    "\n",
    "        # Take action and observe the next state and reward\n",
    "        next_state, reward, done, _ = env.step(action)\n",
    "\n",
    "        # Store the transition in the replay buffer\n",
    "        replay_buffer.push(state, action, reward, next_state, done)\n",
    "\n",
    "        # Move to the next state\n",
    "        state = next_state\n",
    "        episode_rewards += reward\n",
    "\n",
    "        # Start learning once the replay buffer has enough samples\n",
    "        if len(replay_buffer) > batch_size:\n",
    "            batch = replay_buffer.sample(batch_size)\n",
    "            batch_states, batch_actions, batch_rewards, batch_next_states, batch_dones = [list(x) for x in zip(*batch)]\n",
    "\n",
    "            print(f'{type(batch_states)}: {batch_states}')\n",
    "            batch_states = torch.FloatTensor(batch_states)\n",
    "            batch_actions = torch.LongTensor(batch_actions)\n",
    "            batch_rewards = torch.FloatTensor(batch_rewards)\n",
    "            batch_next_states = torch.FloatTensor(batch_next_states)\n",
    "            batch_dones = torch.FloatTensor(batch_dones)\n",
    "\n",
    "            # Compute the current Q values\n",
    "            current_q = model(batch_states).gather(1, batch_actions.unsqueeze(1)).squeeze(1)\n",
    "\n",
    "            # Compute the next Q values using the target network\n",
    "            next_q = model(batch_next_states).max(1)[0]\n",
    "            expected_q = batch_rewards + gamma * next_q * (1 - batch_dones)\n",
    "\n",
    "            # Compute the loss and update the network\n",
    "            loss = loss_fn(current_q, expected_q.detach())\n",
    "            optimizer.zero_grad()\n",
    "            loss.backward()\n",
    "            optimizer.step()\n",
    "\n",
    "        if done:\n",
    "            print(f\"Episode: {episode}, Total Reward: {episode_rewards}\")\n",
    "            break\n",
    "\n",
    "    # Update the target network\n",
    "    if episode % target_update == 0:\n",
    "        # Assuming you have a target network called target_model\n",
    "        target_model.load_state_dict(model.state_dict())"
   ]
  },
  {
   "cell_type": "code",
   "execution_count": 28,
   "id": "c24b0fd7-c1bc-49b5-8a4b-24efc82a61b5",
   "metadata": {},
   "outputs": [
    {
     "ename": "TypeError",
     "evalue": "not a sequence",
     "output_type": "error",
     "traceback": [
      "\u001b[0;31m---------------------------------------------------------------------------\u001b[0m",
      "\u001b[0;31mTypeError\u001b[0m                                 Traceback (most recent call last)",
      "Cell \u001b[0;32mIn[28], line 1\u001b[0m\n\u001b[0;32m----> 1\u001b[0m \u001b[43mtorch\u001b[49m\u001b[38;5;241;43m.\u001b[39;49m\u001b[43mFloatTensor\u001b[49m\u001b[43m(\u001b[49m\u001b[43mbatch_states\u001b[49m\u001b[43m)\u001b[49m\n",
      "\u001b[0;31mTypeError\u001b[0m: not a sequence"
     ]
    }
   ],
   "source": [
    "torch.FloatTensor(batch_states)"
   ]
  },
  {
   "cell_type": "code",
   "execution_count": 29,
   "id": "e0421576-53b3-4dd1-a4e1-2aa92bc89bf0",
   "metadata": {},
   "outputs": [
    {
     "data": {
      "text/plain": [
       "[array([ 0.24898983,  0.1809017 , 22.61946711]),\n",
       " array([0.24898983, 0.1809017 , 9.42477796]),\n",
       " array([ 0.24898983,  0.0809017 , 16.96460033]),\n",
       " array([0.1902113 , 0.2618034 , 8.79645943]),\n",
       " array([-0.03632713,  0.1118034 , 18.84955592]),\n",
       " array([ 0.24898983,  0.1809017 , 22.61946711]),\n",
       " array([ 0.1902113 , -0.0618034 ,  5.02654825]),\n",
       " array([-1.40008449e-01, -7.29490169e-03,  3.76991118e+01]),\n",
       " None,\n",
       " array([ 0.24898983,  0.1809017 , 22.61946711]),\n",
       " array([ 0.24898983,  0.1809017 , 22.61946711]),\n",
       " array([-4.89858720e-17,  2.00000000e-01,  7.53982237e+00]),\n",
       " array([ 0.1902113 ,  0.3236068 , 15.07964474]),\n",
       " array([ 0.10898138,  0.2736068 , 33.92920066]),\n",
       " array([ 0.15388418, -0.05      , 11.30973355]),\n",
       " array([ 0.24898983, -0.0190983 , 10.68141502]),\n",
       " array([6.93889390e-18, 6.18033989e-02, 1.25663706e+01]),\n",
       " array([0.30776835, 0.1       , 3.76991118]),\n",
       " array([ 0.05877853,  0.3427051 , 20.73451151]),\n",
       " array([0.        , 0.1       , 0.62831853]),\n",
       " array([ 0.24898983,  0.1809017 , 22.61946711]),\n",
       " array([ 0.1677599 ,  0.1927051 , 34.55751919]),\n",
       " array([-9.10328500e-17,  2.61803399e-01,  1.38230077e+01]),\n",
       " array([ 0.24898983,  0.0809017 , 16.96460033]),\n",
       " None,\n",
       " array([0.        , 0.1       , 0.62831853]),\n",
       " array([-0.14000845,  0.1927051 , 32.04424507]),\n",
       " array([ 0.00000000e+00, -5.55111512e-17,  6.28318531e+00]),\n",
       " array([-0.14000845,  0.1927051 , 32.04424507]),\n",
       " array([-2.24513988e-02,  3.09016994e-02,  3.07876080e+01]),\n",
       " array([ 0.24898983, -0.0190983 , 10.68141502]),\n",
       " array([-0.05877853,  0.0809017 , 25.13274123]),\n",
       " array([ 0.1902113 ,  0.1618034 , 28.90265241]),\n",
       " None,\n",
       " array([-0.05877853,  0.0809017 , 25.13274123]),\n",
       " array([ 0.24898983,  0.2809017 , 21.99114858]),\n",
       " array([1.31432778e-01, 1.90983006e-02, 2.38761042e+01]),\n",
       " array([0.1902113 , 0.2618034 , 8.79645943]),\n",
       " array([-1.40008449e-01, -7.29490169e-03,  3.76991118e+01]),\n",
       " array([ 0.30776835,  0.1618034 , 16.3362818 ]),\n",
       " array([ 0.15388418, -0.05      , 11.30973355]),\n",
       " array([-1.40008449e-01, -7.29490169e-03,  3.76991118e+01]),\n",
       " array([ 0.24898983,  0.1809017 , 22.61946711]),\n",
       " array([6.93889390e-18, 6.18033989e-02, 1.25663706e+01]),\n",
       " None,\n",
       " array([0.11755705, 0.2618034 , 1.88495559]),\n",
       " array([-0.03632713,  0.3118034 , 20.10619298]),\n",
       " array([-9.10328500e-17,  2.61803399e-01,  1.38230077e+01]),\n",
       " array([0., 0., 0.]),\n",
       " None,\n",
       " array([ 0.13143278,  0.3427051 , 27.64601535]),\n",
       " array([ 0.05020285, -0.0690983 , 36.44247478]),\n",
       " array([0.11755705, 0.2618034 , 1.88495559]),\n",
       " array([ 7.26542528e-02, -1.38777878e-16,  3.01592895e+01]),\n",
       " array([-0.05877853,  0.2809017 , 26.38937829]),\n",
       " array([0.1902113 , 0.2618034 , 8.79645943]),\n",
       " array([-0.08122992,  0.2736068 , 32.6725636 ]),\n",
       " array([ 0.15388418,  0.05      , 17.59291886]),\n",
       " array([1.38757276e-02, 3.04508497e-01, 3.33008821e+01]),\n",
       " array([ 0.1677599 ,  0.0927051 , 35.18583772]),\n",
       " array([0.30776835, 0.2       , 3.14159265]),\n",
       " array([-0.03632713,  0.3118034 , 20.10619298]),\n",
       " array([ 0.05877853, -0.0190983 , 11.93805208]),\n",
       " array([ 0.15388418, -0.05      , 11.30973355])]"
      ]
     },
     "execution_count": 29,
     "metadata": {},
     "output_type": "execute_result"
    }
   ],
   "source": [
    "batch_states"
   ]
  }
 ],
 "metadata": {
  "kernelspec": {
   "display_name": "Python 3 (ipykernel)",
   "language": "python",
   "name": "python3"
  },
  "language_info": {
   "codemirror_mode": {
    "name": "ipython",
    "version": 3
   },
   "file_extension": ".py",
   "mimetype": "text/x-python",
   "name": "python",
   "nbconvert_exporter": "python",
   "pygments_lexer": "ipython3",
   "version": "3.11.8"
  }
 },
 "nbformat": 4,
 "nbformat_minor": 5
}
